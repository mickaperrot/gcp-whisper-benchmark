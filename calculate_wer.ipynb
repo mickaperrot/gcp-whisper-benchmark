{
 "cells": [
  {
   "cell_type": "code",
   "execution_count": null,
   "id": "33d199cc-3db4-4513-8394-9306661f6e2e",
   "metadata": {},
   "outputs": [],
   "source": [
    "gcs_transcripts_directory=\"gs://mickael-dm-stt/transcripts\" #GCS URI where transcripts are stored in format gs://bucket_name/path\n",
    "gcs_ground_truth_directory=\"gs://mickael-dm-stt/ground_truth\" #GCS URI where ground truth transcripts are stored in format gs://bucket_name/path"
   ]
  },
  {
   "cell_type": "code",
   "execution_count": null,
   "id": "772d92ee-8a8d-4aea-bcfe-6177962de11f",
   "metadata": {},
   "outputs": [],
   "source": [
    "import re\n",
    "\n",
    "model_folders=!(gsutil ls {gcs_transcripts_directory})\n",
    "models=[]\n",
    "\n",
    "for folder in model_folders:\n",
    "    model=re.search(\"([^/]+)/$\",folder).group(1)\n",
    "    models.append(model)\n",
    "\n",
    "print(models)"
   ]
  },
  {
   "cell_type": "code",
   "execution_count": null,
   "id": "0a04a358-c199-4e01-89fa-f8640445a9e1",
   "metadata": {},
   "outputs": [],
   "source": [
    "import re\n",
    "from google.cloud import storage\n",
    "\n",
    "storage_client = storage.Client()\n",
    "ground_truth_bucket_name,ground_truth_path=re.search(f\"gs://([^/]+)/(.*)\",gcs_ground_truth_directory).group(1,2)\n",
    "ground_truth_bucket = storage_client.bucket(ground_truth_bucket_name)\n",
    "transcripts_bucket_name,transcripts_path=re.search(f\"gs://([^/]+)/(.*)\",gcs_transcripts_directory).group(1,2)\n",
    "transcripts_bucket = storage_client.bucket(transcripts_bucket_name)\n",
    "videos=[]\n",
    "\n",
    "ground_truth_uris=!(gsutil ls {gcs_ground_truth_directory})\n",
    "for uri in ground_truth_uris:\n",
    "    \n",
    "    video_id=re.search(\"([^/]+).txt$\",uri).group(1)\n",
    "    print(f\"Video ID: {video_id}\")\n",
    "    \n",
    "    \n",
    "    ground_truth_blob=ground_truth_bucket.blob(f\"{ground_truth_path}/{video_id}.txt\")\n",
    "    ground_truth=ground_truth_blob.download_as_text()\n",
    "    print(f\"Ground truth: {ground_truth}\")\n",
    "    \n",
    "    video={\n",
    "        \"id\": video_id,\n",
    "        \"ground_truth\": ground_truth,\n",
    "        \"transcripts\": []\n",
    "    }\n",
    "    \n",
    "    for model in models:\n",
    "        \n",
    "        transcript_blob=transcripts_bucket.blob(f\"{transcripts_path}/{model}/txt/{video_id}.txt\")\n",
    "        transcript=transcript_blob.download_as_text()\n",
    "        print(f\"Transcript for {model}: {transcript}\")\n",
    "        video[\"transcripts\"].append([model, transcript])\n",
    "    videos.append(video)"
   ]
  },
  {
   "cell_type": "code",
   "execution_count": null,
   "id": "01ed6ad0-341a-4ec0-bb8e-2676bd40beb4",
   "metadata": {},
   "outputs": [],
   "source": [
    "import os\n",
    "from simple_wer_v2 import SimpleWER\n",
    "import pandas as pd\n",
    "\n",
    "video_ids=[]\n",
    "wer_scores=[]\n",
    "\n",
    "for video in videos:\n",
    "    print(f\"Video: {video['id']}\")\n",
    "    video_ids.append(video[\"id\"])\n",
    "    wer_score={}\n",
    "    for transcript in video[\"transcripts\"]:\n",
    "        \n",
    "        werClient=SimpleWER()\n",
    "        werClient.AddHypRef(transcript[1], video[\"ground_truth\"])\n",
    "        wer=werClient.GetWER()\n",
    "        wer_score[transcript[0]]=wer\n",
    "        print(f\"WER score for {transcript[0]}: {wer}\")\n",
    "        html=\"<body><html><div>\"+werClient.aligned_htmls[0]+\"</div></body></html>\"\n",
    "        \n",
    "        if not os.path.exists(f\"wer_diagnosis/{transcript[0]}/\"):\n",
    "            os.makedirs(f\"wer_diagnosis/{transcript[0]}/\")\n",
    "        file=open(f\"wer_diagnosis/{transcript[0]}/{video['id']}.html\",\"w\")\n",
    "        #file=open(\"wer_diagnosis/\"+transcript[0]+\"/\"+video['id']+\".html\",\"w\")\n",
    "        file.write(html)\n",
    "        file.close()\n",
    "    wer_scores.append(wer_score)\n",
    "print(wer_scores)\n",
    "\n",
    "df=pd.DataFrame(wer_scores, index=video_ids)\n",
    "df"
   ]
  }
 ],
 "metadata": {
  "environment": {
   "kernel": "python3",
   "name": "common-cpu.m110",
   "type": "gcloud",
   "uri": "gcr.io/deeplearning-platform-release/base-cpu:m110"
  },
  "kernelspec": {
   "display_name": "Python 3",
   "language": "python",
   "name": "python3"
  },
  "language_info": {
   "codemirror_mode": {
    "name": "ipython",
    "version": 3
   },
   "file_extension": ".py",
   "mimetype": "text/x-python",
   "name": "python",
   "nbconvert_exporter": "python",
   "pygments_lexer": "ipython3",
   "version": "3.10.12"
  }
 },
 "nbformat": 4,
 "nbformat_minor": 5
}
