{
 "cells": [
  {
   "cell_type": "code",
   "execution_count": null,
   "id": "9211f07d-45c8-47c5-ad44-6a2fdf0df754",
   "metadata": {},
   "outputs": [],
   "source": [
    "gcs_video_files_directory=\"\" #GCS URI to video files in format gs://bucket_name/path, files must be stored in subdirectories named after language code of the video\n",
    "gcs_audio_files_directory=\"\" #GCS URI to upload audio files"
   ]
  },
  {
   "cell_type": "code",
   "execution_count": null,
   "id": "13db741d-4b41-4deb-ac6c-44b3cedbbb42",
   "metadata": {},
   "outputs": [],
   "source": [
    "!(sudo apt update && sudo apt install -y ffmpeg)"
   ]
  },
  {
   "cell_type": "code",
   "execution_count": null,
   "id": "23546351-011f-45f3-9176-1964a49e6ff8",
   "metadata": {},
   "outputs": [],
   "source": [
    "import re\n",
    "import os\n",
    "from google.cloud import storage\n",
    "\n",
    "storage_client = storage.Client()\n",
    "video_bucket_name,video_path = re.search(f\"gs://([^/]+)/(.*)\",gcs_video_files_directory).group(1,2)\n",
    "video_bucket = storage_client.bucket(video_bucket_name)\n",
    "audio_bucket_name,audio_path = re.search(f\"gs://([^/]+)/(.*)\",gcs_audio_files_directory).group(1,2)\n",
    "audio_bucket = storage_client.bucket(audio_bucket_name)\n",
    "\n",
    "language_directories = !(gsutil ls {gcs_video_files_directory})\n",
    "for language_directory in language_directories:\n",
    "    print(f\"Working on directory: {language_directory}\")\n",
    "    language_code = re.search(\"/([^/]+)/$\",language_directory).group(1)\n",
    "    if not os.path.exists(f\"video/{language_code}/\"):\n",
    "        os.makedirs(f\"video/{language_code}/\")\n",
    "    if not os.path.exists(f\"audio/{language_code}/\"):\n",
    "        os.makedirs(f\"audio/{language_code}/\")\n",
    "    uris=!(gsutil ls {language_directory})\n",
    "    \n",
    "    for uri in uris:\n",
    "        print(f\"Working on file: {uri}\")\n",
    "        source_path,source_filename=re.search(\"gs://[^/]+/(.*)/([^/]+)$\",uri).group(1,2)\n",
    "        \n",
    "        video_blob=video_bucket.blob(f\"{source_path}/{source_filename}\")\n",
    "        video_blob.download_to_filename(f\"video/{language_code}/{source_filename}\")\n",
    "        \n",
    "        destination_filename = re.search(\"([^.]+).\",source_filename).group(1) + \".flac\"\n",
    "        \n",
    "        !(ffmpeg -y -i video/{language_code}/{source_filename} -vn -f flac -ac 1 audio/{language_code}/{destination_filename})\n",
    "        \n",
    "        audio_blob=audio_bucket.blob(f\"{audio_path}/{language_code}/{destination_filename}\")\n",
    "        audio_blob.upload_from_filename(f\"audio/{language_code}/{destination_filename}\")"
   ]
  }
 ],
 "metadata": {
  "environment": {
   "kernel": "python3",
   "name": "common-cpu.m110",
   "type": "gcloud",
   "uri": "gcr.io/deeplearning-platform-release/base-cpu:m110"
  },
  "kernelspec": {
   "display_name": "Python 3",
   "language": "python",
   "name": "python3"
  },
  "language_info": {
   "codemirror_mode": {
    "name": "ipython",
    "version": 3
   },
   "file_extension": ".py",
   "mimetype": "text/x-python",
   "name": "python",
   "nbconvert_exporter": "python",
   "pygments_lexer": "ipython3",
   "version": "3.10.12"
  }
 },
 "nbformat": 4,
 "nbformat_minor": 5
}
