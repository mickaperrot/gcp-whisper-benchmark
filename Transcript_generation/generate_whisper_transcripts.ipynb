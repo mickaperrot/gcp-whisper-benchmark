{
 "cells": [
  {
   "cell_type": "code",
   "execution_count": null,
   "id": "ecfc97a4-4c2c-48d3-8b6e-ae4b70d6612b",
   "metadata": {},
   "outputs": [],
   "source": [
    "audio_files_directory=\"\" #GCS URI to audio files in format gs://bucket_name/path, files must be stored in subdirectories named after language code of the video\n",
    "gcs_transcripts_directory=\"\" #GCS URI to store generated transcripts in format gs://bucket_name/path\n",
    "model=\"medium\" #Whisper model to use for transcription (i.e. tiny, base, small, medium, long)"
   ]
  },
  {
   "cell_type": "code",
   "execution_count": null,
   "id": "45722814-ee02-4d6f-b4f4-bbe6c939ccd6",
   "metadata": {},
   "outputs": [],
   "source": [
    "!(sudo apt update && sudo apt install ffmpeg)\n",
    "!(pip install -U openai-whisper)"
   ]
  },
  {
   "cell_type": "code",
   "execution_count": null,
   "id": "ebe69be8-8d49-4833-a84f-65b28be7f781",
   "metadata": {},
   "outputs": [],
   "source": [
    "import re\n",
    "\n",
    "language_directories=!(gsutil ls {audio_files_directory})\n",
    "file_array=[]\n",
    "\n",
    "for language_directory in language_directories:\n",
    "    \n",
    "    language_code=re.search(\"/([^/]+)/$\",language_directory).group(1)\n",
    "    files=!(gsutil ls {language_directory})\n",
    "    for uri in files:\n",
    "        \n",
    "        file_array.append({\"gcs_uri\": uri,\"language_code\": language_code})\n",
    "\n",
    "print(file_array)\n",
    "number_of_files=len(file_array)\n",
    "print(f\"Number of files: {number_of_files}\")"
   ]
  },
  {
   "cell_type": "code",
   "execution_count": null,
   "id": "cf8f200d-ca75-4c1b-9fcd-1cb7644931dc",
   "metadata": {},
   "outputs": [],
   "source": [
    "import re\n",
    "from google.cloud import storage\n",
    "import os\n",
    "\n",
    "storage_client=storage.Client()\n",
    "bucket_name=re.search(f\"gs://([^/]+)/\",audio_files_directory).group(1)\n",
    "bucket = storage_client.bucket(bucket_name)\n",
    "\n",
    "for file in file_array:\n",
    "    regex=f\"gs://{bucket_name}/(.*)/(\\w+.flac)$\"\n",
    "    path,filename=re.search(f\"gs://{bucket_name}/(.*)/(\\w+.flac)$\",file[\"gcs_uri\"]).group(1,2)\n",
    "    local_uri=f\"sound/{file['language_code']}/{filename}\"\n",
    "    # Fetch results from Cloud Storage\n",
    "    blob = bucket.blob(f\"{path}/{filename}\")\n",
    "    \n",
    "    if not os.path.exists(f\"sound/{file['language_code']}/\"):\n",
    "            os.makedirs(f\"sound/{file['language_code']}/\")\n",
    "    blob.download_to_filename(local_uri)\n",
    "    file[\"local_uri\"]=local_uri\n",
    "    \n",
    "print(file_array)"
   ]
  },
  {
   "cell_type": "code",
   "execution_count": null,
   "id": "6b48d547-204b-4950-abb1-4c1e65b41fa6",
   "metadata": {},
   "outputs": [],
   "source": [
    "import whisper\n",
    "import time\n",
    "import re\n",
    "from google.cloud import storage\n",
    "\n",
    "whisper_model=whisper.load_model(model)\n",
    "\n",
    "storage_client=storage.Client()\n",
    "bucket_name, transcript_path=re.search(f\"gs://([^/]+)/(.*)\",gcs_transcripts_directory).group(1, 2)\n",
    "bucket = storage_client.bucket(bucket_name)\n",
    "\n",
    "start_time = time.time()\n",
    "\n",
    "for file in file_array:\n",
    "    transcript=whisper_model.transcribe(file[\"local_uri\"], fp16=False)\n",
    "    print(f\"Transcript for {file['gcs_uri']}: {transcript['text']}\")\n",
    "\n",
    "    transcript_id=re.search(\"([^/]+)\\.flac$\",file[\"gcs_uri\"]).group(1)\n",
    "    \n",
    "    blob=bucket.blob(f\"{transcript_path}/whisper_{model}/txt/{transcript_id}.txt\")\n",
    "    blob.upload_from_string(transcript[\"text\"])\n",
    "    \n",
    "duration = time.time() - start_time\n",
    "print(f\"Took {duration} to execute\")"
   ]
  }
 ],
 "metadata": {
  "environment": {
   "kernel": "python3",
   "name": "common-cpu.m110",
   "type": "gcloud",
   "uri": "gcr.io/deeplearning-platform-release/base-cpu:m110"
  },
  "kernelspec": {
   "display_name": "Python 3",
   "language": "python",
   "name": "python3"
  },
  "language_info": {
   "codemirror_mode": {
    "name": "ipython",
    "version": 3
   },
   "file_extension": ".py",
   "mimetype": "text/x-python",
   "name": "python",
   "nbconvert_exporter": "python",
   "pygments_lexer": "ipython3",
   "version": "3.10.12"
  }
 },
 "nbformat": 4,
 "nbformat_minor": 5
}
